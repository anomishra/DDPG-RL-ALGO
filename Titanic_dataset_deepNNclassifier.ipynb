{
  "nbformat": 4,
  "nbformat_minor": 0,
  "metadata": {
    "colab": {
      "name": "Titanic_dataset_deepNNClassifier.ipynb",
      "version": "0.3.2",
      "provenance": [],
      "collapsed_sections": [],
      "include_colab_link": true
    },
    "kernelspec": {
      "name": "python3",
      "display_name": "Python 3"
    },
    "accelerator": "TPU"
  },
  "cells": [
    {
      "cell_type": "markdown",
      "metadata": {
        "id": "view-in-github",
        "colab_type": "text"
      },
      "source": [
        "<a href=\"https://colab.research.google.com/github/anomishra/Logistic_Regression_Titanic_dataset/blob/master/Titanic_dataset_deeplearning.ipynb\" target=\"_parent\"><img src=\"https://colab.research.google.com/assets/colab-badge.svg\" alt=\"Open In Colab\"/></a>"
      ]
    },
    {
      "metadata": {
        "id": "vU1xXTB9MNNk",
        "colab_type": "code",
        "outputId": "65de5e33-1ef7-4684-edea-783324a874d3",
        "colab": {
          "base_uri": "https://localhost:8080/",
          "height": 598
        }
      },
      "cell_type": "code",
      "source": [
        "!pip install tflearn\n",
        "!pip install git+https://github.com/tflearn/tflearn.git\n",
        "!pip install --upgrade tensorflow"
      ],
      "execution_count": 93,
      "outputs": [
        {
          "output_type": "stream",
          "text": [
            "Requirement already satisfied: tflearn in /usr/local/lib/python3.6/dist-packages (0.3.2)\n",
            "Requirement already satisfied: Pillow in /usr/local/lib/python3.6/dist-packages (from tflearn) (4.0.0)\n",
            "Requirement already satisfied: six in /usr/local/lib/python3.6/dist-packages (from tflearn) (1.11.0)\n",
            "Requirement already satisfied: numpy in /usr/local/lib/python3.6/dist-packages (from tflearn) (1.14.6)\n",
            "Requirement already satisfied: olefile in /usr/local/lib/python3.6/dist-packages (from Pillow->tflearn) (0.46)\n",
            "Collecting git+https://github.com/tflearn/tflearn.git\n",
            "  Cloning https://github.com/tflearn/tflearn.git to /tmp/pip-req-build-nb4_u_w5\n",
            "Requirement already satisfied (use --upgrade to upgrade): tflearn==0.3.2 from git+https://github.com/tflearn/tflearn.git in /usr/local/lib/python3.6/dist-packages\n",
            "Requirement already satisfied: numpy in /usr/local/lib/python3.6/dist-packages (from tflearn==0.3.2) (1.14.6)\n",
            "Requirement already satisfied: six in /usr/local/lib/python3.6/dist-packages (from tflearn==0.3.2) (1.11.0)\n",
            "Requirement already satisfied: Pillow in /usr/local/lib/python3.6/dist-packages (from tflearn==0.3.2) (4.0.0)\n",
            "Requirement already satisfied: olefile in /usr/local/lib/python3.6/dist-packages (from Pillow->tflearn==0.3.2) (0.46)\n",
            "Building wheels for collected packages: tflearn\n",
            "  Running setup.py bdist_wheel for tflearn ... \u001b[?25l-\b \b\\\b \bdone\n",
            "\u001b[?25h  Stored in directory: /tmp/pip-ephem-wheel-cache-bzgibit_/wheels/5a/18/2a/c62b9937b37223da935fb6b2965f02fbc45691e460a08b91b4\n",
            "Successfully built tflearn\n",
            "Requirement already up-to-date: tensorflow in /usr/local/lib/python3.6/dist-packages (1.12.0)\n",
            "Requirement already satisfied, skipping upgrade: absl-py>=0.1.6 in /usr/local/lib/python3.6/dist-packages (from tensorflow) (0.6.1)\n",
            "Requirement already satisfied, skipping upgrade: termcolor>=1.1.0 in /usr/local/lib/python3.6/dist-packages (from tensorflow) (1.1.0)\n",
            "Requirement already satisfied, skipping upgrade: numpy>=1.13.3 in /usr/local/lib/python3.6/dist-packages (from tensorflow) (1.14.6)\n",
            "Requirement already satisfied, skipping upgrade: wheel>=0.26 in /usr/local/lib/python3.6/dist-packages (from tensorflow) (0.32.3)\n",
            "Requirement already satisfied, skipping upgrade: gast>=0.2.0 in /usr/local/lib/python3.6/dist-packages (from tensorflow) (0.2.0)\n",
            "Requirement already satisfied, skipping upgrade: tensorboard<1.13.0,>=1.12.0 in /usr/local/lib/python3.6/dist-packages (from tensorflow) (1.12.0)\n",
            "Requirement already satisfied, skipping upgrade: grpcio>=1.8.6 in /usr/local/lib/python3.6/dist-packages (from tensorflow) (1.15.0)\n",
            "Requirement already satisfied, skipping upgrade: protobuf>=3.6.1 in /usr/local/lib/python3.6/dist-packages (from tensorflow) (3.6.1)\n",
            "Requirement already satisfied, skipping upgrade: six>=1.10.0 in /usr/local/lib/python3.6/dist-packages (from tensorflow) (1.11.0)\n",
            "Requirement already satisfied, skipping upgrade: keras-preprocessing>=1.0.5 in /usr/local/lib/python3.6/dist-packages (from tensorflow) (1.0.5)\n",
            "Requirement already satisfied, skipping upgrade: astor>=0.6.0 in /usr/local/lib/python3.6/dist-packages (from tensorflow) (0.7.1)\n",
            "Requirement already satisfied, skipping upgrade: keras-applications>=1.0.6 in /usr/local/lib/python3.6/dist-packages (from tensorflow) (1.0.6)\n",
            "Requirement already satisfied, skipping upgrade: markdown>=2.6.8 in /usr/local/lib/python3.6/dist-packages (from tensorboard<1.13.0,>=1.12.0->tensorflow) (3.0.1)\n",
            "Requirement already satisfied, skipping upgrade: werkzeug>=0.11.10 in /usr/local/lib/python3.6/dist-packages (from tensorboard<1.13.0,>=1.12.0->tensorflow) (0.14.1)\n",
            "Requirement already satisfied, skipping upgrade: setuptools in /usr/local/lib/python3.6/dist-packages (from protobuf>=3.6.1->tensorflow) (40.6.2)\n",
            "Requirement already satisfied, skipping upgrade: h5py in /usr/local/lib/python3.6/dist-packages (from keras-applications>=1.0.6->tensorflow) (2.8.0)\n"
          ],
          "name": "stdout"
        }
      ]
    },
    {
      "metadata": {
        "id": "qXNUPL1dMyEg",
        "colab_type": "code",
        "colab": {}
      },
      "cell_type": "code",
      "source": [
        "import tflearn\n",
        "import tensorflow as tf\n",
        "import numpy as np"
      ],
      "execution_count": 0,
      "outputs": []
    },
    {
      "metadata": {
        "id": "PNffQO9SaqGv",
        "colab_type": "text"
      },
      "cell_type": "markdown",
      "source": [
        "Data preprocess:\n",
        "\n",
        "Deleting name column in the dataframe as it is not important.\n",
        "Also, neural network use only numerical values (float) hence, replacing values of sex: female = 1, male = 0.\n",
        "\n",
        "For columns use axis = 1 and for row use axis = 0"
      ]
    },
    {
      "metadata": {
        "id": "ZavXSMy_NDVw",
        "colab_type": "code",
        "outputId": "236801da-b27c-492d-8b33-55da0ff51cb1",
        "colab": {
          "base_uri": "https://localhost:8080/",
          "height": 501
        }
      },
      "cell_type": "code",
      "source": [
        "\n",
        "\n",
        "from tflearn.datasets import titanic\n",
        "titanic.download_dataset('titanic_dataset.csv') #download the dataset\n",
        "\n",
        "from tflearn.data_utils import load_csv\n",
        "import pandas as pd\n",
        "data = pd.read_csv('titanic_dataset.csv')\n",
        "data = data.drop(['name','ticket'], axis = 1) \n",
        "#for columns use axis = 1 and for row use axis = 0\n",
        "\n",
        "#Another form to load\n",
        "#data, labels = load_csv('titanic_dataset.csv', target_column=0, categorical_labels=True, n_classes=2)\n",
        "#data = pd.DataFrame(data = data, columns = [\"label\", \"name\", \"sex\", \"age\", \"siblings\", \"parch\", \"ticket\", \"fare\"])\n",
        "#data\n",
        "\n",
        "#row_count = data.shape[0]\n",
        "\n",
        "#replacing values of sex: female = 1, male = 0 \n",
        "data['sex'].replace('female', 1.,inplace=True)        \n",
        "data['sex'].replace('male', 0.,inplace=True)\n",
        "#data\n",
        "data.info()\n",
        "data.describe()\n"
      ],
      "execution_count": 176,
      "outputs": [
        {
          "output_type": "stream",
          "text": [
            "<class 'pandas.core.frame.DataFrame'>\n",
            "RangeIndex: 1309 entries, 0 to 1308\n",
            "Data columns (total 7 columns):\n",
            "survived    1309 non-null int64\n",
            "pclass      1309 non-null int64\n",
            "sex         1309 non-null float64\n",
            "age         1309 non-null float64\n",
            "sibsp       1309 non-null int64\n",
            "parch       1309 non-null int64\n",
            "fare        1309 non-null float64\n",
            "dtypes: float64(3), int64(4)\n",
            "memory usage: 71.7 KB\n"
          ],
          "name": "stdout"
        },
        {
          "output_type": "execute_result",
          "data": {
            "text/html": [
              "<div>\n",
              "<style scoped>\n",
              "    .dataframe tbody tr th:only-of-type {\n",
              "        vertical-align: middle;\n",
              "    }\n",
              "\n",
              "    .dataframe tbody tr th {\n",
              "        vertical-align: top;\n",
              "    }\n",
              "\n",
              "    .dataframe thead th {\n",
              "        text-align: right;\n",
              "    }\n",
              "</style>\n",
              "<table border=\"1\" class=\"dataframe\">\n",
              "  <thead>\n",
              "    <tr style=\"text-align: right;\">\n",
              "      <th></th>\n",
              "      <th>survived</th>\n",
              "      <th>pclass</th>\n",
              "      <th>sex</th>\n",
              "      <th>age</th>\n",
              "      <th>sibsp</th>\n",
              "      <th>parch</th>\n",
              "      <th>fare</th>\n",
              "    </tr>\n",
              "  </thead>\n",
              "  <tbody>\n",
              "    <tr>\n",
              "      <th>count</th>\n",
              "      <td>1309.000000</td>\n",
              "      <td>1309.000000</td>\n",
              "      <td>1309.000000</td>\n",
              "      <td>1309.000000</td>\n",
              "      <td>1309.000000</td>\n",
              "      <td>1309.000000</td>\n",
              "      <td>1309.000000</td>\n",
              "    </tr>\n",
              "    <tr>\n",
              "      <th>mean</th>\n",
              "      <td>0.381971</td>\n",
              "      <td>2.294882</td>\n",
              "      <td>0.355997</td>\n",
              "      <td>23.877515</td>\n",
              "      <td>0.498854</td>\n",
              "      <td>0.385027</td>\n",
              "      <td>33.276075</td>\n",
              "    </tr>\n",
              "    <tr>\n",
              "      <th>std</th>\n",
              "      <td>0.486055</td>\n",
              "      <td>0.837836</td>\n",
              "      <td>0.478997</td>\n",
              "      <td>17.590848</td>\n",
              "      <td>1.041658</td>\n",
              "      <td>0.865560</td>\n",
              "      <td>51.743642</td>\n",
              "    </tr>\n",
              "    <tr>\n",
              "      <th>min</th>\n",
              "      <td>0.000000</td>\n",
              "      <td>1.000000</td>\n",
              "      <td>0.000000</td>\n",
              "      <td>0.000000</td>\n",
              "      <td>0.000000</td>\n",
              "      <td>0.000000</td>\n",
              "      <td>0.000000</td>\n",
              "    </tr>\n",
              "    <tr>\n",
              "      <th>25%</th>\n",
              "      <td>0.000000</td>\n",
              "      <td>2.000000</td>\n",
              "      <td>0.000000</td>\n",
              "      <td>7.000000</td>\n",
              "      <td>0.000000</td>\n",
              "      <td>0.000000</td>\n",
              "      <td>7.895800</td>\n",
              "    </tr>\n",
              "    <tr>\n",
              "      <th>50%</th>\n",
              "      <td>0.000000</td>\n",
              "      <td>3.000000</td>\n",
              "      <td>0.000000</td>\n",
              "      <td>24.000000</td>\n",
              "      <td>0.000000</td>\n",
              "      <td>0.000000</td>\n",
              "      <td>14.454200</td>\n",
              "    </tr>\n",
              "    <tr>\n",
              "      <th>75%</th>\n",
              "      <td>1.000000</td>\n",
              "      <td>3.000000</td>\n",
              "      <td>1.000000</td>\n",
              "      <td>35.000000</td>\n",
              "      <td>1.000000</td>\n",
              "      <td>0.000000</td>\n",
              "      <td>31.275000</td>\n",
              "    </tr>\n",
              "    <tr>\n",
              "      <th>max</th>\n",
              "      <td>1.000000</td>\n",
              "      <td>3.000000</td>\n",
              "      <td>1.000000</td>\n",
              "      <td>80.000000</td>\n",
              "      <td>8.000000</td>\n",
              "      <td>9.000000</td>\n",
              "      <td>512.329200</td>\n",
              "    </tr>\n",
              "  </tbody>\n",
              "</table>\n",
              "</div>"
            ],
            "text/plain": [
              "          survived       pclass          sex          age        sibsp  \\\n",
              "count  1309.000000  1309.000000  1309.000000  1309.000000  1309.000000   \n",
              "mean      0.381971     2.294882     0.355997    23.877515     0.498854   \n",
              "std       0.486055     0.837836     0.478997    17.590848     1.041658   \n",
              "min       0.000000     1.000000     0.000000     0.000000     0.000000   \n",
              "25%       0.000000     2.000000     0.000000     7.000000     0.000000   \n",
              "50%       0.000000     3.000000     0.000000    24.000000     0.000000   \n",
              "75%       1.000000     3.000000     1.000000    35.000000     1.000000   \n",
              "max       1.000000     3.000000     1.000000    80.000000     8.000000   \n",
              "\n",
              "             parch         fare  \n",
              "count  1309.000000  1309.000000  \n",
              "mean      0.385027    33.276075  \n",
              "std       0.865560    51.743642  \n",
              "min       0.000000     0.000000  \n",
              "25%       0.000000     7.895800  \n",
              "50%       0.000000    14.454200  \n",
              "75%       0.000000    31.275000  \n",
              "max       9.000000   512.329200  "
            ]
          },
          "metadata": {
            "tags": []
          },
          "execution_count": 176
        }
      ]
    },
    {
      "metadata": {
        "id": "mtPWgyAjeB4B",
        "colab_type": "text"
      },
      "cell_type": "markdown",
      "source": [
        "For checking any missing values in dataset, try these below:\n",
        "1. data.shape or\n",
        "2. data.isnull() or\n",
        "3. data.isnull().values.any() or\n",
        "4. data.isnull().sum() or\n",
        "4. data.isnull().sum().sum() or\n",
        "\n",
        "Plotting histogram:\n",
        "You can also visualize the data (here column = 'age') by plotting histogram.\n",
        "seaborn is used here."
      ]
    },
    {
      "metadata": {
        "id": "scd5pd1CBwDU",
        "colab_type": "code",
        "colab": {
          "base_uri": "https://localhost:8080/",
          "height": 380
        },
        "outputId": "96403971-13e0-4545-cd52-239dbe45a982"
      },
      "cell_type": "code",
      "source": [
        "import seaborn as sns\n",
        "\n",
        "sns.set_style('darkgrid')\n",
        "sns.distplot(data['age'])"
      ],
      "execution_count": 177,
      "outputs": [
        {
          "output_type": "execute_result",
          "data": {
            "text/plain": [
              "<matplotlib.axes._subplots.AxesSubplot at 0x7f481e254a90>"
            ]
          },
          "metadata": {
            "tags": []
          },
          "execution_count": 177
        },
        {
          "output_type": "display_data",
          "data": {
            "image/png": "[encoded data removed]",
            "text/plain": [
              "<matplotlib.figure.Figure at 0x7f481e221da0>"
            ]
          },
          "metadata": {
            "tags": []
          }
        }
      ]
    },
    {
      "metadata": {
        "id": "iY9hjbN3BJf-",
        "colab_type": "code",
        "colab": {}
      },
      "cell_type": "code",
      "source": [
        "#precprocessing the data\n",
        "X_data = data.drop('survived', axis = 1) \n",
        "\n",
        "#call the entire column\n",
        "#data.loc[:,'Column_name']\n",
        "\n",
        "Y_data = pd.get_dummies(data.loc[:,'survived'])\n",
        "#Y_data\n",
        "\n",
        "#changing the datasets into arrays\n",
        "X_data = np.array(X_data)\n",
        "Y_data = np.array(Y_data)\n",
        "Y_data = Y_data.astype(float) \n",
        "#X_data\n",
        "#Y_data\n",
        "tf.reset_default_graph()"
      ],
      "execution_count": 0,
      "outputs": []
    },
    {
      "metadata": {
        "id": "MouS0vBWgw3i",
        "colab_type": "text"
      },
      "cell_type": "markdown",
      "source": [
        "A one hot encoding allows the representation of categorical data to be more expressive.\n",
        "\n",
        "Many machine learning algorithms cannot work with categorical data directly. The categories must be converted into numbers. This is required for both input and output variables that are categorical."
      ]
    },
    {
      "metadata": {
        "id": "MdT4rXt2gy8z",
        "colab_type": "code",
        "colab": {}
      },
      "cell_type": "code",
      "source": [
        "\n",
        "#no need here\n",
        "from sklearn.model_selection import train_test_split\n",
        "X_train, X_test, y_train, y_test = train_test_split(X_data, Y_data, test_size=0.33, random_state=42)\n",
        "#X_train\n",
        "#X_test\n",
        "#y_train\n",
        "#y_test"
      ],
      "execution_count": 0,
      "outputs": []
    },
    {
      "metadata": {
        "id": "S1WNjRtabKKQ",
        "colab_type": "text"
      },
      "cell_type": "markdown",
      "source": [
        "Now building a neural network using tflearn module.\n",
        "\n",
        "*  We are having 6 features in data.\n",
        "*  We will run it for 10 epochs (the network will see all data 10 times) with a batch size of 16.\n",
        "\n",
        "Let's do the training.\n",
        "\n"
      ]
    },
    {
      "metadata": {
        "id": "U5YGGtEZPYt5",
        "colab_type": "code",
        "colab": {
          "base_uri": "https://localhost:8080/",
          "height": 102
        },
        "outputId": "7d36baa4-fdae-47ae-92f6-ba2bfbcfbfd3"
      },
      "cell_type": "code",
      "source": [
        "net = tflearn.input_data(shape=[None, 6])\n",
        "net = tflearn.fully_connected(net, 32)\n",
        "net = tflearn.fully_connected(net, 32)\n",
        "net = tflearn.fully_connected(net, 2, activation='softmax')\n",
        "net = tflearn.regression(net)\n",
        "\n",
        "# Define model\n",
        "model = tflearn.DNN(net)\n",
        "# Start training (apply gradient descent algorithm)\n",
        "model.fit(X_data, Y_data, n_epoch=10, batch_size=16, show_metric=True)\n"
      ],
      "execution_count": 160,
      "outputs": [
        {
          "output_type": "stream",
          "text": [
            "Training Step: 819  | total loss: \u001b[1m\u001b[32m0.44933\u001b[0m\u001b[0m | time: 0.330s\n",
            "| Adam | epoch: 010 | loss: 0.44933 - acc: 0.8134 -- iter: 1296/1309\n",
            "Training Step: 820  | total loss: \u001b[1m\u001b[32m0.42872\u001b[0m\u001b[0m | time: 0.333s\n",
            "| Adam | epoch: 010 | loss: 0.42872 - acc: 0.8258 -- iter: 1309/1309\n",
            "--\n"
          ],
          "name": "stdout"
        }
      ]
    },
    {
      "metadata": {
        "id": "vPdglGmUhfqZ",
        "colab_type": "text"
      },
      "cell_type": "markdown",
      "source": [
        ""
      ]
    },
    {
      "metadata": {
        "id": "fMgHE4h1Mpwc",
        "colab_type": "code",
        "colab": {}
      },
      "cell_type": "code",
      "source": [
        "#  some data for DiCaprio and Winslet\n",
        "dicaprio = {'pclass':3,'name':'Jack Dawson', 'sex':0, 'age':19, 'siblings': 0, 'parch':0, 'ticket':'N/A', 'fare': 5.0000}\n",
        "winslet = {'pclass':1,'name':'Rose DeWitt Bukater', 'sex':1, 'age':17, 'siblings': 1, 'parch':2, 'ticket':'N/A', 'fare': 100.0000}\n",
        "\n",
        "#from above data set needed are in order\n",
        "# [ pclass, sex, age,siblings, parch, fare ]\n",
        "# Preprocess data\n",
        "dicaprio = np.array([3,0,19,0,0,5.0000])\n",
        "winslet = np.array([1,1,17,1,2,100.0000])\n",
        "#dicaprio\n",
        "#winslet\n"
      ],
      "execution_count": 0,
      "outputs": []
    },
    {
      "metadata": {
        "id": "iCEqs2PJbgKU",
        "colab_type": "text"
      },
      "cell_type": "markdown",
      "source": [
        "You can arrange or fetch from any datatype. Make sure that you are processing it into it's above designed form. I;m directly taking the data into numpy array form. \n",
        "Also, I provided a dictionary type for single data. One can automate it to process into numpy array. (*Hint, be sure that while processing the data is in ordered pair)"
      ]
    },
    {
      "metadata": {
        "id": "LJqb_p5Ubd7n",
        "colab_type": "code",
        "colab": {
          "base_uri": "https://localhost:8080/",
          "height": 51
        },
        "outputId": "66857dcc-aeea-4a1c-91c7-d2e577870032"
      },
      "cell_type": "code",
      "source": [
        "# Predict surviving chances (class 1 results)\n",
        "pred = model.predict([dicaprio,winslet])\n",
        "print(\"DiCaprio Surviving Rate:\", pred[0][1])\n",
        "print(\"Winslet Surviving Rate:\", pred[1][1])"
      ],
      "execution_count": 175,
      "outputs": [
        {
          "output_type": "stream",
          "text": [
            "DiCaprio Surviving Rate: 0.110949695\n",
            "Winslet Surviving Rate: 0.8660004\n"
          ],
          "name": "stdout"
        }
      ]
    },
    {
      "metadata": {
        "id": "CaRSDqr2gCvr",
        "colab_type": "text"
      },
      "cell_type": "markdown",
      "source": [
        "Dicapirio survival chance is 11% (also movie results the same).\n",
        "Winslet chance is pretty high, i.e., 86%."
      ]
    }
  ]
}
